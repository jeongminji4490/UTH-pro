{
 "cells": [
  {
   "cell_type": "code",
   "execution_count": 10,
   "id": "833bde5b",
   "metadata": {},
   "outputs": [
    {
     "ename": "TypeError",
     "evalue": "'NoneType' object is not subscriptable",
     "output_type": "error",
     "traceback": [
      "\u001b[1;31m---------------------------------------------------------------------------\u001b[0m",
      "\u001b[1;31mTypeError\u001b[0m                                 Traceback (most recent call last)",
      "\u001b[1;32m<ipython-input-10-041ff8c51581>\u001b[0m in \u001b[0;36m<module>\u001b[1;34m\u001b[0m\n\u001b[0;32m     32\u001b[0m     \u001b[1;31m# Rectangle(이미지, 시작좌표, 종료좌표, 색상, 선 두께)\u001b[0m\u001b[1;33m\u001b[0m\u001b[1;33m\u001b[0m\u001b[1;33m\u001b[0m\u001b[0m\n\u001b[0;32m     33\u001b[0m     \u001b[0mr\u001b[0m \u001b[1;33m=\u001b[0m \u001b[0mcv2\u001b[0m\u001b[1;33m.\u001b[0m\u001b[0mrectangle\u001b[0m\u001b[1;33m(\u001b[0m\u001b[0mimage_frame\u001b[0m\u001b[1;33m,\u001b[0m \u001b[0mupper_left\u001b[0m\u001b[1;33m,\u001b[0m \u001b[0mbottom_right\u001b[0m\u001b[1;33m,\u001b[0m \u001b[0mblue_color\u001b[0m\u001b[1;33m,\u001b[0m \u001b[1;36m5\u001b[0m\u001b[1;33m)\u001b[0m \u001b[1;31m# 영상에서 사각형(ROI) 그리기\u001b[0m\u001b[1;33m\u001b[0m\u001b[1;33m\u001b[0m\u001b[0m\n\u001b[1;32m---> 34\u001b[1;33m     \u001b[0mrect_img\u001b[0m \u001b[1;33m=\u001b[0m \u001b[0mimage_frame\u001b[0m\u001b[1;33m[\u001b[0m\u001b[0mupper_left\u001b[0m\u001b[1;33m[\u001b[0m\u001b[1;36m1\u001b[0m\u001b[1;33m]\u001b[0m\u001b[1;33m:\u001b[0m \u001b[0mbottom_right\u001b[0m\u001b[1;33m[\u001b[0m\u001b[1;36m1\u001b[0m\u001b[1;33m]\u001b[0m\u001b[1;33m,\u001b[0m \u001b[0mupper_left\u001b[0m\u001b[1;33m[\u001b[0m\u001b[1;36m0\u001b[0m\u001b[1;33m]\u001b[0m\u001b[1;33m:\u001b[0m \u001b[0mbottom_right\u001b[0m\u001b[1;33m[\u001b[0m\u001b[1;36m0\u001b[0m\u001b[1;33m]\u001b[0m\u001b[1;33m]\u001b[0m \u001b[1;31m# 사각형의 프레임을 반환\u001b[0m\u001b[1;33m\u001b[0m\u001b[1;33m\u001b[0m\u001b[0m\n\u001b[0m\u001b[0;32m     35\u001b[0m     \u001b[0mimage_frame\u001b[0m\u001b[1;33m[\u001b[0m\u001b[0mupper_left\u001b[0m\u001b[1;33m[\u001b[0m\u001b[1;36m1\u001b[0m\u001b[1;33m]\u001b[0m\u001b[1;33m:\u001b[0m \u001b[0mbottom_right\u001b[0m\u001b[1;33m[\u001b[0m\u001b[1;36m1\u001b[0m\u001b[1;33m]\u001b[0m\u001b[1;33m,\u001b[0m \u001b[0mupper_left\u001b[0m\u001b[1;33m[\u001b[0m\u001b[1;36m0\u001b[0m\u001b[1;33m]\u001b[0m\u001b[1;33m:\u001b[0m \u001b[0mbottom_right\u001b[0m\u001b[1;33m[\u001b[0m\u001b[1;36m0\u001b[0m\u001b[1;33m]\u001b[0m\u001b[1;33m]\u001b[0m \u001b[1;33m=\u001b[0m \u001b[0mrect_img\u001b[0m \u001b[1;31m# 반환받은 프레임을 사각형에\u001b[0m\u001b[1;33m\u001b[0m\u001b[1;33m\u001b[0m\u001b[0m\n\u001b[0;32m     36\u001b[0m     \u001b[1;31m# rect_img를 연속적으로 모델에 입력\u001b[0m\u001b[1;33m\u001b[0m\u001b[1;33m\u001b[0m\u001b[1;33m\u001b[0m\u001b[0m\n",
      "\u001b[1;31mTypeError\u001b[0m: 'NoneType' object is not subscriptable"
     ]
    }
   ],
   "source": [
    "import cv2\n",
    "import numpy\n",
    "from keras.models import load_model\n",
    "import os\n",
    "from PIL import Image\n",
    "import matplotlib.pyplot as plt\n",
    "\n",
    "categories = [\"0\", \"1\"] # 0 -> false, 1 -> true\n",
    "cnn_model = load_model('handgesture_detection.h5')\n",
    "\n",
    "# 살색 범위\n",
    "lower = numpy.array([0, 48, 80], dtype = \"uint8\")\n",
    "upper = numpy.array([20, 255, 255], dtype = \"uint8\")\n",
    "\n",
    "blue_color = (255, 0, 0)\n",
    "green_color = (0, 255, 0)\n",
    "red_color = (0, 0, 255)\n",
    "white_color = (255, 255, 255)\n",
    "\n",
    "cam_capture = cv2.VideoCapture(0) # 카메라 시작\n",
    "str = \"hand gesture detection\"\n",
    "\n",
    "# 사각형 좌표\n",
    "upper_left = (50, 50)\n",
    "bottom_right = (300, 300)\n",
    "\n",
    "while True:\n",
    "    _, image_frame = cam_capture.read() # 영상의 한 프레임씩 읽음, image_frame에 읽은 프레임이 나옴\n",
    "    image_frame = cv2.flip(image_frame, 1) # 1 : 좌우반전 2 : 상하반전\n",
    "    cv2.putText(image_frame, str, (10, 35), cv2.LINE_AA, 1, blue_color, 2) # 문자열 화면에 출력\n",
    "\n",
    "    # Rectangle(이미지, 시작좌표, 종료좌표, 색상, 선 두께)\n",
    "    r = cv2.rectangle(image_frame, upper_left, bottom_right, blue_color, 5) # 영상에서 사각형(ROI) 그리기\n",
    "    rect_img = image_frame[upper_left[1]: bottom_right[1], upper_left[0]: bottom_right[0]] # 사각형의 프레임을 반환\n",
    "    image_frame[upper_left[1]: bottom_right[1], upper_left[0]: bottom_right[0]] = rect_img # 반환받은 프레임을 사각형에\n",
    "    # rect_img를 연속적으로 모델에 입력\n",
    "    try:\n",
    "        img2 = cv2.cvtColor(rect_img, cv2.COLOR_BGR2HSV) \n",
    "        mask_img2 = cv2.inRange(img2, lower, upper) # 살색 부분 검출\n",
    "        f_numpy = numpy.array(mask_img2, 'uint8')\n",
    "        f_numpy = f_numpy/255.0\n",
    "        resize_f = cv2.resize(f_numpy, dsize=(28, 28), interpolation=cv2.INTER_AREA) # 이미지 리사이징\n",
    "        cv2.imwrite(os.path.join(os.getcwd(), 'recognition_img'+ '.jpg'), resize_f) # 이미지 저장\n",
    "        img_numpy = numpy.array(resize_f, 'uint8')\n",
    "        test_img = img_numpy.reshape(1, 28, 28, 1) # 모델 사이즈에 맞게 리쉐이프\n",
    "        prediction = cnn_model.predict_classes(test_img)\n",
    "        if categories[prediction[0]]=='1': # 손 동작이 참값과 일치하면\n",
    "            cv2.putText(image_frame, \"Unlocked\", (250, 450), cv2.FONT_HERSHEY_COMPLEX, 1, green_color, 2)\n",
    "            cv2.imshow(\"UTH_pro\", image_frame)\n",
    "        else:\n",
    "            cv2.putText(image_frame, \"locked\", (250, 450), cv2.FONT_HERSHEY_COMPLEX, 1, red_color, 2)\n",
    "            cv2.imshow(\"UTH_pro\", image_frame)\n",
    "    except:\n",
    "        pass\n",
    "    \n",
    "    if cv2.waitKey(1) == ord('q'): \n",
    "        cam_capture.release()\n",
    "        cv2.destroyAllWindows()\n"
   ]
  },
  {
   "cell_type": "code",
   "execution_count": null,
   "id": "1178c8ae",
   "metadata": {},
   "outputs": [],
   "source": []
  },
  {
   "cell_type": "code",
   "execution_count": null,
   "id": "dbbcc8dc",
   "metadata": {},
   "outputs": [],
   "source": []
  }
 ],
 "metadata": {
  "kernelspec": {
   "display_name": "Python 3",
   "language": "python",
   "name": "python3"
  },
  "language_info": {
   "codemirror_mode": {
    "name": "ipython",
    "version": 3
   },
   "file_extension": ".py",
   "mimetype": "text/x-python",
   "name": "python",
   "nbconvert_exporter": "python",
   "pygments_lexer": "ipython3",
   "version": "3.8.8"
  }
 },
 "nbformat": 4,
 "nbformat_minor": 5
}
